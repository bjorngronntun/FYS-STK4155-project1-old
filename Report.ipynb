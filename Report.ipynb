{
 "cells": [
  {
   "cell_type": "markdown",
   "metadata": {},
   "source": [
    "# Imports"
   ]
  },
  {
   "cell_type": "code",
   "execution_count": 18,
   "metadata": {
    "collapsed": false
   },
   "outputs": [],
   "source": [
    "import numpy as np\n",
    "from sklearn.linear_model import Lasso\n",
    "from datasets import generate_test_data\n",
    "from preprocessing import polynomial_combinations\n",
    "from models import OLS, Ridge\n",
    "from assessment import mse, r_squared, cross_val_mse_and_r_squared\n",
    "from resampling import train_test_split"
   ]
  },
  {
   "cell_type": "markdown",
   "metadata": {},
   "source": [
    "# Data generation"
   ]
  },
  {
   "cell_type": "code",
   "execution_count": 3,
   "metadata": {
    "collapsed": false
   },
   "outputs": [],
   "source": [
    "data_points = 100\n",
    "max_degree = 5\n",
    "noise_scale = 0.1\n",
    "\n",
    "initial_data, target = generate_test_data(data_points, noise_scale)\n",
    "X = polynomial_combinations(initial_data, max_degree)"
   ]
  },
  {
   "cell_type": "markdown",
   "metadata": {},
   "source": [
    "# Part a): Ordinary Least Squares "
   ]
  },
  {
   "cell_type": "code",
   "execution_count": 4,
   "metadata": {
    "collapsed": true
   },
   "outputs": [],
   "source": [
    "ols_regressor = OLS()\n",
    "ols_regressor.fit(X, target)\n",
    "# Make predictions on train data:\n",
    "train_predictions = ols_regressor.predict(X)"
   ]
  },
  {
   "cell_type": "markdown",
   "metadata": {},
   "source": [
    "I have written some convenience functions to perform assessments:"
   ]
  },
  {
   "cell_type": "code",
   "execution_count": 8,
   "metadata": {
    "collapsed": false
   },
   "outputs": [
    {
     "name": "stdout",
     "output_type": "stream",
     "text": [
      "MSE: 0.5640182363946317\n",
      "R squared: 0.931698844098268\n"
     ]
    }
   ],
   "source": [
    "# Confidence intervals\n",
    "\n",
    "# MSE and R squared\n",
    "computed_mse = mse(target, train_predictions)\n",
    "computed_r_squared = r_squared(target, train_predictions)\n",
    "print('MSE: {}\\nR squared: {}'.format(computed_mse, computed_r_squared))"
   ]
  },
  {
   "cell_type": "markdown",
   "metadata": {},
   "source": [
    "## Resampling"
   ]
  },
  {
   "cell_type": "code",
   "execution_count": 10,
   "metadata": {
    "collapsed": false
   },
   "outputs": [
    {
     "name": "stdout",
     "output_type": "stream",
     "text": [
      "MSE obtained using cross validation: 4.260666522003095\n",
      "R squared obtained using cross validation: -2.6222418671658696\n"
     ]
    }
   ],
   "source": [
    "X_train, X_test, y_train, y_test = train_test_split(X, target)\n",
    "computed_mse, computed_r_squared = cross_val_mse_and_r_squared(ols_regressor, X, target)\n",
    "print('MSE obtained using cross validation: {}'.format(computed_mse))\n",
    "print('R squared obtained using cross validation: {}'.format(computed_r_squared))"
   ]
  },
  {
   "cell_type": "markdown",
   "metadata": {},
   "source": [
    "# Ridge regression"
   ]
  },
  {
   "cell_type": "code",
   "execution_count": 13,
   "metadata": {
    "collapsed": true
   },
   "outputs": [],
   "source": [
    "ridge_regressor = Ridge(0.1)\n",
    "ridge_regressor.fit(X, target)\n",
    "# Make predictions on train data:\n",
    "train_predictions = ridge_regressor.predict(X)"
   ]
  },
  {
   "cell_type": "code",
   "execution_count": 15,
   "metadata": {
    "collapsed": false
   },
   "outputs": [
    {
     "name": "stdout",
     "output_type": "stream",
     "text": [
      "MSE: 1.830279115758963\n",
      "R squared: 0.778357912630204\n"
     ]
    }
   ],
   "source": [
    "# Confidence intervals\n",
    "\n",
    "# MSE and R squared\n",
    "computed_mse = mse(target, train_predictions)\n",
    "computed_r_squared = r_squared(target, train_predictions)\n",
    "print('MSE: {}\\nR squared: {}'.format(computed_mse, computed_r_squared))"
   ]
  },
  {
   "cell_type": "markdown",
   "metadata": {},
   "source": [
    "## Resampling"
   ]
  },
  {
   "cell_type": "code",
   "execution_count": 17,
   "metadata": {
    "collapsed": false
   },
   "outputs": [
    {
     "name": "stdout",
     "output_type": "stream",
     "text": [
      "MSE obtained using cross validation: 0.4022373649889556\n",
      "R squared obtained using cross validation: 0.7407934292145888\n"
     ]
    }
   ],
   "source": [
    "computed_mse, computed_r_squared = cross_val_mse_and_r_squared(ridge_regressor, X, target)\n",
    "print('MSE obtained using cross validation: {}'.format(computed_mse))\n",
    "print('R squared obtained using cross validation: {}'.format(computed_r_squared))"
   ]
  },
  {
   "cell_type": "markdown",
   "metadata": {},
   "source": [
    "# Lasso"
   ]
  },
  {
   "cell_type": "code",
   "execution_count": 21,
   "metadata": {
    "collapsed": true
   },
   "outputs": [],
   "source": [
    "lasso_regressor = Lasso(0.1)\n",
    "lasso_regressor.fit(X, target)\n",
    "train_predictions = lasso_regressor.predict(X)"
   ]
  },
  {
   "cell_type": "code",
   "execution_count": 23,
   "metadata": {
    "collapsed": false
   },
   "outputs": [
    {
     "name": "stdout",
     "output_type": "stream",
     "text": [
      "MSE: 8.257813926401337\n",
      "R squared: 0.0\n"
     ]
    }
   ],
   "source": [
    "# Confidence intervals\n",
    "\n",
    "# MSE and R squared\n",
    "computed_mse = mse(target, train_predictions)\n",
    "computed_r_squared = r_squared(target, train_predictions)\n",
    "print('MSE: {}\\nR squared: {}'.format(computed_mse, computed_r_squared))"
   ]
  },
  {
   "cell_type": "code",
   "execution_count": 24,
   "metadata": {
    "collapsed": false
   },
   "outputs": [
    {
     "name": "stdout",
     "output_type": "stream",
     "text": [
      "MSE obtained using cross validation: 1.6818011773027457\n",
      "R squared obtained using cross validation: -0.10236963994661083\n"
     ]
    }
   ],
   "source": [
    "computed_mse, computed_r_squared = cross_val_mse_and_r_squared(lasso_regressor, X, target)\n",
    "print('MSE obtained using cross validation: {}'.format(computed_mse))\n",
    "print('R squared obtained using cross validation: {}'.format(computed_r_squared))"
   ]
  }
 ],
 "metadata": {
  "anaconda-cloud": {},
  "kernelspec": {
   "display_name": "Python [conda root]",
   "language": "python",
   "name": "conda-root-py"
  },
  "language_info": {
   "codemirror_mode": {
    "name": "ipython",
    "version": 3
   },
   "file_extension": ".py",
   "mimetype": "text/x-python",
   "name": "python",
   "nbconvert_exporter": "python",
   "pygments_lexer": "ipython3",
   "version": "3.5.2"
  }
 },
 "nbformat": 4,
 "nbformat_minor": 1
}
