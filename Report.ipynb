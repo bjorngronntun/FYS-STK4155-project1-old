{
 "cells": [
  {
   "cell_type": "markdown",
   "metadata": {},
   "source": [
    "# Imports"
   ]
  },
  {
   "cell_type": "code",
   "execution_count": 1,
   "metadata": {
    "collapsed": false
   },
   "outputs": [],
   "source": [
    "import numpy as np\n",
    "import matplotlib.pyplot as plt\n",
    "from PIL import Image\n",
    "%matplotlib inline\n",
    "from sklearn.linear_model import Lasso\n",
    "from imageio import imread\n",
    "from datasets import generate_test_data, load_map_data\n",
    "from preprocessing import polynomial_combinations\n",
    "from models import OLS, Ridge\n",
    "from assessment import mse, r_squared, cross_val_mse_and_r_squared\n",
    "from resampling import train_test_split"
   ]
  },
  {
   "cell_type": "markdown",
   "metadata": {},
   "source": [
    "# Data generation"
   ]
  },
  {
   "cell_type": "code",
   "execution_count": 2,
   "metadata": {
    "collapsed": false
   },
   "outputs": [],
   "source": [
    "data_points = 100\n",
    "max_degree = 5\n",
    "noise_scale = 0.1\n",
    "\n",
    "initial_data, target = generate_test_data(data_points, noise_scale)\n",
    "X = polynomial_combinations(initial_data, max_degree)"
   ]
  },
  {
   "cell_type": "markdown",
   "metadata": {},
   "source": [
    "# Part a): Ordinary Least Squares "
   ]
  },
  {
   "cell_type": "code",
   "execution_count": 3,
   "metadata": {
    "collapsed": true
   },
   "outputs": [],
   "source": [
    "ols_regressor = OLS()\n",
    "ols_regressor.fit(X, target)\n",
    "# Make predictions on train data:\n",
    "train_predictions = ols_regressor.predict(X)"
   ]
  },
  {
   "cell_type": "markdown",
   "metadata": {},
   "source": [
    "I have written some convenience functions to perform assessments:"
   ]
  },
  {
   "cell_type": "code",
   "execution_count": 4,
   "metadata": {
    "collapsed": false
   },
   "outputs": [
    {
     "name": "stdout",
     "output_type": "stream",
     "text": [
      "MSE: 0.6023459074381378\n",
      "R squared: 0.9425315638585953\n"
     ]
    }
   ],
   "source": [
    "# Confidence intervals\n",
    "\n",
    "# MSE and R squared\n",
    "computed_mse = mse(target, train_predictions)\n",
    "computed_r_squared = r_squared(target, train_predictions)\n",
    "print('MSE: {}\\nR squared: {}'.format(computed_mse, computed_r_squared))"
   ]
  },
  {
   "cell_type": "markdown",
   "metadata": {},
   "source": [
    "## Resampling"
   ]
  },
  {
   "cell_type": "code",
   "execution_count": 5,
   "metadata": {
    "collapsed": false
   },
   "outputs": [
    {
     "name": "stdout",
     "output_type": "stream",
     "text": [
      "MSE obtained using cross validation: 0.5745311851290534\n",
      "R squared obtained using cross validation: 0.6658862575512887\n"
     ]
    }
   ],
   "source": [
    "X_train, X_test, y_train, y_test = train_test_split(X, target)\n",
    "computed_mse, computed_r_squared = cross_val_mse_and_r_squared(ols_regressor, X, target)\n",
    "print('MSE obtained using cross validation: {}'.format(computed_mse))\n",
    "print('R squared obtained using cross validation: {}'.format(computed_r_squared))"
   ]
  },
  {
   "cell_type": "markdown",
   "metadata": {},
   "source": [
    "# Ridge regression"
   ]
  },
  {
   "cell_type": "code",
   "execution_count": 6,
   "metadata": {
    "collapsed": true
   },
   "outputs": [],
   "source": [
    "ridge_regressor = Ridge(0.1)\n",
    "ridge_regressor.fit(X, target)\n",
    "# Make predictions on train data:\n",
    "train_predictions = ridge_regressor.predict(X)"
   ]
  },
  {
   "cell_type": "code",
   "execution_count": 7,
   "metadata": {
    "collapsed": false
   },
   "outputs": [
    {
     "name": "stdout",
     "output_type": "stream",
     "text": [
      "MSE: 2.5684214189138963\n",
      "R squared: 0.7549528261512618\n"
     ]
    }
   ],
   "source": [
    "# Confidence intervals\n",
    "\n",
    "# MSE and R squared\n",
    "computed_mse = mse(target, train_predictions)\n",
    "computed_r_squared = r_squared(target, train_predictions)\n",
    "print('MSE: {}\\nR squared: {}'.format(computed_mse, computed_r_squared))"
   ]
  },
  {
   "cell_type": "markdown",
   "metadata": {},
   "source": [
    "## Resampling"
   ]
  },
  {
   "cell_type": "code",
   "execution_count": 8,
   "metadata": {
    "collapsed": false
   },
   "outputs": [
    {
     "name": "stdout",
     "output_type": "stream",
     "text": [
      "MSE obtained using cross validation: 0.5743947647165882\n",
      "R squared obtained using cross validation: 0.7229211260057401\n"
     ]
    }
   ],
   "source": [
    "computed_mse, computed_r_squared = cross_val_mse_and_r_squared(ridge_regressor, X, target)\n",
    "print('MSE obtained using cross validation: {}'.format(computed_mse))\n",
    "print('R squared obtained using cross validation: {}'.format(computed_r_squared))"
   ]
  },
  {
   "cell_type": "markdown",
   "metadata": {},
   "source": [
    "# Lasso"
   ]
  },
  {
   "cell_type": "code",
   "execution_count": 9,
   "metadata": {
    "collapsed": true
   },
   "outputs": [],
   "source": [
    "lasso_regressor = Lasso(0.1)\n",
    "lasso_regressor.fit(X, target)\n",
    "train_predictions = lasso_regressor.predict(X)"
   ]
  },
  {
   "cell_type": "code",
   "execution_count": 10,
   "metadata": {
    "collapsed": false
   },
   "outputs": [
    {
     "name": "stdout",
     "output_type": "stream",
     "text": [
      "MSE: 10.481334587842756\n",
      "R squared: 0.0\n"
     ]
    }
   ],
   "source": [
    "# Confidence intervals\n",
    "\n",
    "# MSE and R squared\n",
    "computed_mse = mse(target, train_predictions)\n",
    "computed_r_squared = r_squared(target, train_predictions)\n",
    "print('MSE: {}\\nR squared: {}'.format(computed_mse, computed_r_squared))"
   ]
  },
  {
   "cell_type": "code",
   "execution_count": 11,
   "metadata": {
    "collapsed": false
   },
   "outputs": [
    {
     "name": "stdout",
     "output_type": "stream",
     "text": [
      "MSE obtained using cross validation: 2.1156319998094224\n",
      "R squared obtained using cross validation: -0.034508740478463015\n"
     ]
    }
   ],
   "source": [
    "computed_mse, computed_r_squared = cross_val_mse_and_r_squared(lasso_regressor, X, target)\n",
    "print('MSE obtained using cross validation: {}'.format(computed_mse))\n",
    "print('R squared obtained using cross validation: {}'.format(computed_r_squared))"
   ]
  },
  {
   "cell_type": "markdown",
   "metadata": {},
   "source": [
    "# Part d): Introducing real data\n",
    "Start by visualizing data:"
   ]
  },
  {
   "cell_type": "code",
   "execution_count": 13,
   "metadata": {
    "collapsed": false
   },
   "outputs": [
    {
     "data": {
      "image/png": "[encoded data removed]",
      "text/plain": [
       "<matplotlib.figure.Figure at 0x11d2b7860>"
      ]
     },
     "metadata": {},
     "output_type": "display_data"
    }
   ],
   "source": [
    "terrain1 = imread('SRTM_data_Norway_1.tif')\n",
    "plt.figure()\n",
    "plt.imshow(terrain1, cmap='gray')\n",
    "plt.show()"
   ]
  },
  {
   "cell_type": "code",
   "execution_count": null,
   "metadata": {
    "collapsed": false
   },
   "outputs": [
    {
     "name": "stdout",
     "output_type": "stream",
     "text": [
      "[0 0] 1161 1161\n",
      "[1 0] 1165 1168\n",
      "[2 0] 1169 1172\n",
      "[3 0] 1172 1176\n",
      "[4 0] 1175 1180\n",
      "[5 0] 1178 1183\n",
      "[6 0] 1182 1185\n",
      "[7 0] 1187 1187\n",
      "[8 0] 1192 1189\n",
      "[9 0] 1196 1193\n"
     ]
    }
   ],
   "source": [
    "max_degree = 10\n",
    "initial_data, terrain = load_map_data('SRTM_data_Norway_1.tif')\n",
    "target = terrain.reshape(-1)\n",
    "\n",
    "for row in range(10):\n",
    "    print(initial_data[row], target[row], terrain[initial_data[row, 0], initial_data[row, 1]])\n",
    "\n",
    "X = polynomial_combinations(initial_data, max_degree)"
   ]
  },
  {
   "cell_type": "markdown",
   "metadata": {
    "collapsed": false
   },
   "source": [
    "# Ordinary Least Squares"
   ]
  },
  {
   "cell_type": "code",
   "execution_count": 16,
   "metadata": {
    "collapsed": false
   },
   "outputs": [
    {
     "name": "stdout",
     "output_type": "stream",
     "text": [
      "MSE: 273013489066.68362\n",
      "R squared: 0.5429685872444734\n"
     ]
    }
   ],
   "source": [
    "# This will probably take some time:\n",
    "ols_regressor = OLS()\n",
    "ols_regressor.fit(X, target)\n",
    "# Make predictions on train data:\n",
    "train_predictions = ols_regressor.predict(X)\n",
    "# MSE and R squared\n",
    "computed_mse = mse(target, train_predictions)\n",
    "computed_r_squared = r_squared(target, train_predictions)\n",
    "print('MSE: {}\\nR squared: {}'.format(computed_mse, computed_r_squared))"
   ]
  }
 ],
 "metadata": {
  "anaconda-cloud": {},
  "kernelspec": {
   "display_name": "Python [conda root]",
   "language": "python",
   "name": "conda-root-py"
  },
  "language_info": {
   "codemirror_mode": {
    "name": "ipython",
    "version": 3
   },
   "file_extension": ".py",
   "mimetype": "text/x-python",
   "name": "python",
   "nbconvert_exporter": "python",
   "pygments_lexer": "ipython3",
   "version": "3.5.2"
  }
 },
 "nbformat": 4,
 "nbformat_minor": 1
}
